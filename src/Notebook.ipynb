{
 "cells": [
  {
   "cell_type": "code",
   "execution_count": 1,
   "metadata": {},
   "outputs": [
    {
     "name": "stdout",
     "output_type": "stream",
     "text": [
      "Overwriting app.py\n"
     ]
    }
   ],
   "source": [
    "%%writefile app.py\n",
    "import streamlit as st\n",
    "import sys\n",
    "import projeto \n",
    "import tensorflow \n",
    "from tensorflow import keras\n",
    "\n",
    "def import_model():\n",
    "    model = keras.load_model('model.h5')\n",
    "\n",
    "def prediction(file):\n",
    "    pred = model.prediction(file)\n",
    "    return pred\n",
    "\n",
    "\n",
    "def main():\n",
    "    st.set_page_config(layout=\"wide\")\n",
    "\n",
    "    html_template = \"\"\"\n",
    "        <div style =\"background-color:#1B9CFC;padding:5px\"> \n",
    "        <h2 style =\"color:white;text-align:center;\">DIAGNOSTICO DE COVID-19 POR RAIO-X</h2> \n",
    "        <h4 style =\"color:white;text-align:center;\">Christiano Piccinin, Lucenildo Cerqueira e Hugo Brandão</h3> \n",
    "        </div> \n",
    "    \"\"\"\n",
    "    \n",
    "    # Função do stramlit que faz o display da webpage\n",
    "    st.markdown(html_template, unsafe_allow_html = True) \n",
    "    \n",
    "\n",
    "    st.write('')\n",
    "    st.write('1º Clique sobre o botão Browse files e subimeta uma imagem para ser analisada')\n",
    "    st.write('2º Clique sobre o botão Analisar')\n",
    "\n",
    "    file = st.file_uploader(\"\", type=None, accept_multiple_files=False, key=None, help=\"Envie uma imagem de raio-x do pulmão para nosso sistema de IA. Só é permitido uma imagem por vez!\")\n",
    "\n",
    "    result =\"\"\n",
    "      \n",
    "    #Quando o Usuário clicar no botão \"Verificar\" a Máquina Preditiva faz seu trabalho\n",
    "    if st.button(\"Analisar\"): \n",
    "        result = prediction(file) \n",
    "        st.success('A probabilidade de ser COVID-19 é  {} %'.format(result))\n",
    "\n",
    "\n",
    "    \n",
    "\n",
    "if __name__=='__main__': \n",
    "    main()"
   ]
  },
  {
   "cell_type": "code",
   "execution_count": 2,
   "metadata": {},
   "outputs": [
    {
     "name": "stderr",
     "output_type": "stream",
     "text": [
      "'streamlit' não é reconhecido como um comando interno\n",
      "ou externo, um programa operável ou um arquivo em lotes.\n"
     ]
    }
   ],
   "source": [
    "!streamlit run app.py"
   ]
  },
  {
   "cell_type": "code",
   "execution_count": null,
   "metadata": {},
   "outputs": [],
   "source": []
  }
 ],
 "metadata": {
  "kernelspec": {
   "display_name": "Python 3",
   "language": "python",
   "name": "python3"
  },
  "language_info": {
   "codemirror_mode": {
    "name": "ipython",
    "version": 3
   },
   "file_extension": ".py",
   "mimetype": "text/x-python",
   "name": "python",
   "nbconvert_exporter": "python",
   "pygments_lexer": "ipython3",
   "version": "3.7.6"
  }
 },
 "nbformat": 4,
 "nbformat_minor": 5
}
